{
  "nbformat": 4,
  "nbformat_minor": 0,
  "metadata": {
    "kernelspec": {
      "display_name": "Python 3",
      "language": "python",
      "name": "python3"
    },
    "language_info": {
      "codemirror_mode": {
        "name": "ipython",
        "version": 3
      },
      "file_extension": ".py",
      "mimetype": "text/x-python",
      "name": "python",
      "nbconvert_exporter": "python",
      "pygments_lexer": "ipython3",
      "version": "3.7.6"
    },
    "colab": {
      "name": "Gradient Descent and Cost Functions.ipynb",
      "provenance": [],
      "collapsed_sections": [],
      "include_colab_link": true
    }
  },
  "cells": [
    {
      "cell_type": "markdown",
      "metadata": {
        "id": "view-in-github",
        "colab_type": "text"
      },
      "source": [
        "<a href=\"https://colab.research.google.com/github/sagar3992/GHR3-PDBS3/blob/master/Gradient_Descent_and_Cost_Functions.ipynb\" target=\"_parent\"><img src=\"https://colab.research.google.com/assets/colab-badge.svg\" alt=\"Open In Colab\"/></a>"
      ]
    },
    {
      "cell_type": "markdown",
      "metadata": {
        "id": "Rs_NGCQ_G-4a",
        "colab_type": "text"
      },
      "source": [
        "### Cost Functions"
      ]
    },
    {
      "cell_type": "code",
      "metadata": {
        "id": "0l5rmm1gbW3u",
        "colab_type": "code",
        "colab": {}
      },
      "source": [
        "def mse(x, y, params):\n",
        "    \"Compute linear regression cost (mean_square_error)\"\n",
        "    num_samples = len(y)\n",
        "    cost_sum = 0.0\n",
        "    #print(x.shape, y.shape)\n",
        "    y_hat = np.dot( x, params)\n",
        "    cost_sum = (y_hat - y) ** 2\n",
        "    cost = np.sum(cost_sum) / (num_samples * 2.0)\n",
        "    #print(\"Cost = \", cost)\n",
        "    return cost"
      ],
      "execution_count": 0,
      "outputs": []
    },
    {
      "cell_type": "code",
      "metadata": {
        "id": "Kvi_cp3fbW4S",
        "colab_type": "code",
        "colab": {}
      },
      "source": [
        "import math\n",
        "def sig(x, y, params):\n",
        "    \"Compute linear regression cost (sigmoid)\"\n",
        "    num_samples = len(y)\n",
        "    cost_sum = 0.0\n",
        "    #print(x.shape, y.shape)\n",
        "    y_hat = np.dot( x, params)\n",
        "    cost_sum=0\n",
        "    for a in y_hat:\n",
        "      cost_sum += 1/(1+math.exp(-a))\n",
        "    #print(\"Cost = \", cost)\n",
        "    return cost_sum"
      ],
      "execution_count": 0,
      "outputs": []
    },
    {
      "cell_type": "code",
      "metadata": {
        "id": "PX_KdyOfFl31",
        "colab_type": "code",
        "colab": {}
      },
      "source": [
        "import math\n",
        "def tanh(x, y, params):\n",
        "    \"Compute linear regression cost (tanh)\"\n",
        "    num_samples = len(y)\n",
        "    cost_sum = 0.0\n",
        "    #print(x.shape, y.shape)\n",
        "    y_hat = np.dot( x, params)\n",
        "    cost_sum=0\n",
        "    for a in y_hat:\n",
        "      cost_sum += (2/(1+math.exp(-2*a))) - 1\n",
        "    #print(\"Cost = \", cost)\n",
        "    return cost_sum"
      ],
      "execution_count": 0,
      "outputs": []
    },
    {
      "cell_type": "markdown",
      "metadata": {
        "id": "dhTeVF8vHF-7",
        "colab_type": "text"
      },
      "source": [
        "### Implementation of GD and SGD"
      ]
    },
    {
      "cell_type": "code",
      "metadata": {
        "id": "YjrccMWfbW32",
        "colab_type": "code",
        "colab": {}
      },
      "source": [
        "import numpy as np\n",
        "\"Function of Stochaistic GD\"\n",
        "def my_SGD(x, y, params, itr, lr, f, cost_history, params_history):\n",
        "    sample_size= len(y)\n",
        "    m= np.random.randint(0,sample_size)\n",
        "    cost = f(np.append([[1.0]]*(sample_size-m),x[m:], axis=1),y[m:],params)\n",
        "    cost_history.append(cost)\n",
        "    for a,b in zip(x[m:],y[m:]):\n",
        "        xt=  np.append([1.0],a)\n",
        "        y_pred = np.dot(params,xt)\n",
        "        loss = b - y_pred\n",
        "        gradient = xt * loss\n",
        "        params = params + (lr * gradient / sample_size)\n",
        "    if itr is not 0:\n",
        "        my_SGD(x,y,params,itr-1,lr,f,cost_history,params_history)\n",
        "    \n",
        "    return params, cost_history"
      ],
      "execution_count": 0,
      "outputs": []
    },
    {
      "cell_type": "code",
      "metadata": {
        "id": "ZQGE2yg4bW4M",
        "colab_type": "code",
        "colab": {}
      },
      "source": [
        "import numpy as np\n",
        "\"Function of GD\"\n",
        "def my_GD(x, y, params, itr, lr, f, cost_history, params_history):\n",
        "    sample_size= len(y)\n",
        "    cost = f(np.append([[1.0]]*(sample_size),x, axis=1),y,params)\n",
        "    cost_history.append(cost)\n",
        "    xt= np.append([[1.0]]*sample_size, x, axis=1)\n",
        "    y_pred = np.dot(xt, params)\n",
        "    loss = np.subtract(y, y_pred)\n",
        "    gradient = np.dot(np.transpose(xt), loss)\n",
        "    params = params + (lr * gradient / sample_size)\n",
        "    \n",
        "    if itr is not 0:\n",
        "        my_GD(x,y,params,itr-1,lr,f,cost_history,params_history)\n",
        "\n",
        "    return params, cost_history"
      ],
      "execution_count": 0,
      "outputs": []
    },
    {
      "cell_type": "markdown",
      "metadata": {
        "id": "vehUgk93Gft7",
        "colab_type": "text"
      },
      "source": [
        "### SGD and GD analysis using Mean Squared Error"
      ]
    },
    {
      "cell_type": "code",
      "metadata": {
        "id": "Rok0gNtObW36",
        "colab_type": "code",
        "colab": {}
      },
      "source": [
        "\"Implemenation of SGD and GD\"\n",
        "x=np.array([[0,0],[0,1],[1,0],[1,1]])\n",
        "y=np.array([0,0,0,1])\n",
        "params=np.array([1,20,20])\n",
        "max_iter, alpha = 800, 1\n",
        "a,b=my_SGD(x, y, params, max_iter, alpha, mse, [], []) # SGD in a,b\n",
        "c,d=my_GD(x, y, params, max_iter, alpha, mse, [], []) # GD in c,d"
      ],
      "execution_count": 0,
      "outputs": []
    },
    {
      "cell_type": "code",
      "metadata": {
        "id": "BeREdeZdbW4H",
        "colab_type": "code",
        "outputId": "84dd6f70-ddce-4607-ed21-39c654926209",
        "colab": {
          "base_uri": "https://localhost:8080/",
          "height": 315
        }
      },
      "source": [
        "\"Plotting the cost history over iterations\"\n",
        "import matplotlib.pyplot as plt\n",
        "#plt.plot( np.array(]).reshape(2492) , [row[2] for row in b], '-b')\n",
        "#b=np.array(b)\n",
        "#print(b.shape)\n",
        "plt.figure()\n",
        "plt.plot([x for x in range(0,max_iter+1)], b, 'b', label='SGD')\n",
        "plt.plot([x for x in range(0,max_iter+1)], d, 'r', label='GD')\n",
        "plt.xlabel('Iterations')\n",
        "plt.ylabel('Loss')\n",
        "plt.legend()\n",
        "plt.show()\n",
        "print(f'Minimum cost with stochastic GD: {b[max_iter-1]}')\n",
        "print(f'Minimum cost with GD : {d[max_iter-1]}')"
      ],
      "execution_count": 35,
      "outputs": [
        {
          "output_type": "display_data",
          "data": {
            "image/png": "[encoded data removed]",
            "text/plain": [
              "<Figure size 432x288 with 1 Axes>"
            ]
          },
          "metadata": {
            "tags": []
          }
        },
        {
          "output_type": "stream",
          "text": [
            "Minimum cost with stochastic GD: 0.0003273862367927892\n",
            "Minimum cost with GD : 0.03125\n"
          ],
          "name": "stdout"
        }
      ]
    },
    {
      "cell_type": "markdown",
      "metadata": {
        "id": "2uwzvBxwGwy8",
        "colab_type": "text"
      },
      "source": [
        "### SGD and GD analysis using Sigmoid"
      ]
    },
    {
      "cell_type": "code",
      "metadata": {
        "id": "vPqrV9EbEj04",
        "colab_type": "code",
        "colab": {}
      },
      "source": [
        "\"Implemenation of SGD and GD\"\n",
        "x=np.array([[0,0],[0,1],[1,0],[1,1]])\n",
        "y=np.array([0,0,0,1])\n",
        "params=np.array([1,20,20])\n",
        "max_iter, alpha = 800, 0.1\n",
        "a,b=my_SGD(x, y, params, max_iter, alpha, sig, [], []) # SGD in a,b\n",
        "c,d=my_GD(x, y, params, max_iter, alpha, sig, [], []) # GD in c,d"
      ],
      "execution_count": 0,
      "outputs": []
    },
    {
      "cell_type": "code",
      "metadata": {
        "id": "13jr2boIFWPI",
        "colab_type": "code",
        "colab": {
          "base_uri": "https://localhost:8080/",
          "height": 315
        },
        "outputId": "bb97b098-fcf5-4c9d-c8e7-2160724e8048"
      },
      "source": [
        "\"Plotting the cost history over iterations\"\n",
        "import matplotlib.pyplot as plt\n",
        "#plt.plot( np.array(]).reshape(2492) , [row[2] for row in b], '-b')\n",
        "#b=np.array(b)\n",
        "#print(b.shape)\n",
        "plt.figure()\n",
        "plt.plot([x for x in range(0,max_iter+1)], b, 'b', label='SGD')\n",
        "plt.plot([x for x in range(0,max_iter+1)], d, 'r', label='GD')\n",
        "plt.xlabel('Iterations')\n",
        "plt.ylabel('Loss')\n",
        "plt.legend()\n",
        "plt.show()\n",
        "print(f'Minimum cost with stochastic GD: {b[max_iter-1]}')\n",
        "print(f'Minimum cost with GD : {d[max_iter-1]}')"
      ],
      "execution_count": 37,
      "outputs": [
        {
          "output_type": "display_data",
          "data": {
            "image/png": "[encoded data removed]",
            "text/plain": [
              "<Figure size 432x288 with 1 Axes>"
            ]
          },
          "metadata": {
            "tags": []
          }
        },
        {
          "output_type": "stream",
          "text": [
            "Minimum cost with stochastic GD: 0.7165954476198175\n",
            "Minimum cost with GD : 2.2413478279428727\n"
          ],
          "name": "stdout"
        }
      ]
    },
    {
      "cell_type": "markdown",
      "metadata": {
        "id": "BZ31Af_iG0B5",
        "colab_type": "text"
      },
      "source": [
        "### SGD and GD analysis using tanh"
      ]
    },
    {
      "cell_type": "code",
      "metadata": {
        "id": "BbPapZiuFhzv",
        "colab_type": "code",
        "colab": {}
      },
      "source": [
        "\"Implemenation of SGD and GD\"\n",
        "x=np.array([[0,0],[0,1],[1,0],[1,1]])\n",
        "y=np.array([0,0,0,1])\n",
        "params=np.array([1,20,20])\n",
        "max_iter, alpha = 800, 0.1\n",
        "a,b=my_SGD(x, y, params, max_iter, alpha, tanh, [], []) # SGD in a,b\n",
        "c,d=my_GD(x, y, params, max_iter, alpha, tanh, [], []) # GD in c,d"
      ],
      "execution_count": 0,
      "outputs": []
    },
    {
      "cell_type": "code",
      "metadata": {
        "id": "kYhgszjLGR5G",
        "colab_type": "code",
        "colab": {
          "base_uri": "https://localhost:8080/",
          "height": 317
        },
        "outputId": "5e9bcb78-1bb7-4cab-b0f1-1213941a97ff"
      },
      "source": [
        "\"Plotting the cost history over iterations\"\n",
        "import matplotlib.pyplot as plt\n",
        "#plt.plot( np.array(]).reshape(2492) , [row[2] for row in b], '-b')\n",
        "#b=np.array(b)\n",
        "#print(b.shape)\n",
        "plt.figure()\n",
        "plt.plot([x for x in range(0,max_iter+1)], b, 'b', label='SGD')\n",
        "plt.plot([x for x in range(0,max_iter+1)], d, 'r', label='GD')\n",
        "plt.xlabel('Iterations')\n",
        "plt.ylabel('Loss')\n",
        "plt.legend()\n",
        "plt.show()\n",
        "print(f'Minimum cost with stochastic GD: {b[max_iter-1]}')\n",
        "print(f'Minimum cost with GD : {d[max_iter-1]}')"
      ],
      "execution_count": 46,
      "outputs": [
        {
          "output_type": "display_data",
          "data": {
            "image/png": "[encoded data removed]",
            "text/plain": [
              "<Figure size 432x288 with 1 Axes>"
            ]
          },
          "metadata": {
            "tags": []
          }
        },
        {
          "output_type": "stream",
          "text": [
            "Minimum cost with stochastic GD: 0.5482587531508976\n",
            "Minimum cost with GD : 0.8800326066407042\n"
          ],
          "name": "stdout"
        }
      ]
    }
  ]
}